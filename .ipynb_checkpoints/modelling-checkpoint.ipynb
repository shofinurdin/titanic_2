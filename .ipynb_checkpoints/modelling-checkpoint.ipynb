{
 "cells": [
  {
   "cell_type": "code",
   "execution_count": 1,
   "id": "4634cdf2",
   "metadata": {
    "ExecuteTime": {
     "end_time": "2023-05-27T22:19:47.842169Z",
     "start_time": "2023-05-27T22:19:47.648224Z"
    }
   },
   "outputs": [],
   "source": [
    "# import library\n",
    "import numpy as np # linear algebra\n",
    "import pandas as pd\n",
    "import joblib\n",
    "from sklearn.preprocessing import MinMaxScaler\n",
    "import matplotlib.pyplot as plt\n",
    "import seaborn as sns"
   ]
  },
  {
   "cell_type": "markdown",
   "id": "b0e352c8",
   "metadata": {},
   "source": [
    "# EDA"
   ]
  },
  {
   "cell_type": "code",
   "execution_count": 3,
   "id": "5bf6bb09",
   "metadata": {
    "ExecuteTime": {
     "end_time": "2023-05-27T09:31:26.973325Z",
     "start_time": "2023-05-27T09:31:26.963146Z"
    }
   },
   "outputs": [],
   "source": [
    "#load data\n",
    "df_titanic = pd.read_csv('titanic.csv')"
   ]
  },
  {
   "cell_type": "code",
   "execution_count": 4,
   "id": "d4541424",
   "metadata": {
    "ExecuteTime": {
     "end_time": "2023-05-27T09:31:36.680463Z",
     "start_time": "2023-05-27T09:31:36.632952Z"
    },
    "scrolled": true
   },
   "outputs": [
    {
     "data": {
      "text/html": [
       "<div>\n",
       "<style scoped>\n",
       "    .dataframe tbody tr th:only-of-type {\n",
       "        vertical-align: middle;\n",
       "    }\n",
       "\n",
       "    .dataframe tbody tr th {\n",
       "        vertical-align: top;\n",
       "    }\n",
       "\n",
       "    .dataframe thead th {\n",
       "        text-align: right;\n",
       "    }\n",
       "</style>\n",
       "<table border=\"1\" class=\"dataframe\">\n",
       "  <thead>\n",
       "    <tr style=\"text-align: right;\">\n",
       "      <th></th>\n",
       "      <th>PassengerId</th>\n",
       "      <th>Survived</th>\n",
       "      <th>Pclass</th>\n",
       "      <th>Name</th>\n",
       "      <th>Sex</th>\n",
       "      <th>Age</th>\n",
       "      <th>SibSp</th>\n",
       "      <th>Parch</th>\n",
       "      <th>Ticket</th>\n",
       "      <th>Fare</th>\n",
       "      <th>Cabin</th>\n",
       "      <th>Embarked</th>\n",
       "    </tr>\n",
       "  </thead>\n",
       "  <tbody>\n",
       "    <tr>\n",
       "      <th>0</th>\n",
       "      <td>1</td>\n",
       "      <td>0</td>\n",
       "      <td>3</td>\n",
       "      <td>Braund, Mr. Owen Harris</td>\n",
       "      <td>male</td>\n",
       "      <td>22.0</td>\n",
       "      <td>1</td>\n",
       "      <td>0</td>\n",
       "      <td>A/5 21171</td>\n",
       "      <td>7.2500</td>\n",
       "      <td>NaN</td>\n",
       "      <td>S</td>\n",
       "    </tr>\n",
       "    <tr>\n",
       "      <th>1</th>\n",
       "      <td>2</td>\n",
       "      <td>1</td>\n",
       "      <td>1</td>\n",
       "      <td>Cumings, Mrs. John Bradley (Florence Briggs Th...</td>\n",
       "      <td>female</td>\n",
       "      <td>38.0</td>\n",
       "      <td>1</td>\n",
       "      <td>0</td>\n",
       "      <td>PC 17599</td>\n",
       "      <td>71.2833</td>\n",
       "      <td>C85</td>\n",
       "      <td>C</td>\n",
       "    </tr>\n",
       "    <tr>\n",
       "      <th>2</th>\n",
       "      <td>3</td>\n",
       "      <td>1</td>\n",
       "      <td>3</td>\n",
       "      <td>Heikkinen, Miss. Laina</td>\n",
       "      <td>female</td>\n",
       "      <td>26.0</td>\n",
       "      <td>0</td>\n",
       "      <td>0</td>\n",
       "      <td>STON/O2. 3101282</td>\n",
       "      <td>7.9250</td>\n",
       "      <td>NaN</td>\n",
       "      <td>S</td>\n",
       "    </tr>\n",
       "    <tr>\n",
       "      <th>3</th>\n",
       "      <td>4</td>\n",
       "      <td>1</td>\n",
       "      <td>1</td>\n",
       "      <td>Futrelle, Mrs. Jacques Heath (Lily May Peel)</td>\n",
       "      <td>female</td>\n",
       "      <td>35.0</td>\n",
       "      <td>1</td>\n",
       "      <td>0</td>\n",
       "      <td>113803</td>\n",
       "      <td>53.1000</td>\n",
       "      <td>C123</td>\n",
       "      <td>S</td>\n",
       "    </tr>\n",
       "    <tr>\n",
       "      <th>4</th>\n",
       "      <td>5</td>\n",
       "      <td>0</td>\n",
       "      <td>3</td>\n",
       "      <td>Allen, Mr. William Henry</td>\n",
       "      <td>male</td>\n",
       "      <td>35.0</td>\n",
       "      <td>0</td>\n",
       "      <td>0</td>\n",
       "      <td>373450</td>\n",
       "      <td>8.0500</td>\n",
       "      <td>NaN</td>\n",
       "      <td>S</td>\n",
       "    </tr>\n",
       "  </tbody>\n",
       "</table>\n",
       "</div>"
      ],
      "text/plain": [
       "   PassengerId  Survived  Pclass  \\\n",
       "0            1         0       3   \n",
       "1            2         1       1   \n",
       "2            3         1       3   \n",
       "3            4         1       1   \n",
       "4            5         0       3   \n",
       "\n",
       "                                                Name     Sex   Age  SibSp  \\\n",
       "0                            Braund, Mr. Owen Harris    male  22.0      1   \n",
       "1  Cumings, Mrs. John Bradley (Florence Briggs Th...  female  38.0      1   \n",
       "2                             Heikkinen, Miss. Laina  female  26.0      0   \n",
       "3       Futrelle, Mrs. Jacques Heath (Lily May Peel)  female  35.0      1   \n",
       "4                           Allen, Mr. William Henry    male  35.0      0   \n",
       "\n",
       "   Parch            Ticket     Fare Cabin Embarked  \n",
       "0      0         A/5 21171   7.2500   NaN        S  \n",
       "1      0          PC 17599  71.2833   C85        C  \n",
       "2      0  STON/O2. 3101282   7.9250   NaN        S  \n",
       "3      0            113803  53.1000  C123        S  \n",
       "4      0            373450   8.0500   NaN        S  "
      ]
     },
     "execution_count": 4,
     "metadata": {},
     "output_type": "execute_result"
    }
   ],
   "source": [
    "df_titanic.head()"
   ]
  },
  {
   "cell_type": "markdown",
   "id": "4b4b2708",
   "metadata": {
    "ExecuteTime": {
     "end_time": "2023-05-27T22:15:20.544448Z",
     "start_time": "2023-05-27T22:15:20.541234Z"
    }
   },
   "source": [
    "## Descriptive"
   ]
  },
  {
   "cell_type": "code",
   "execution_count": 5,
   "id": "f8b28a3c",
   "metadata": {
    "ExecuteTime": {
     "end_time": "2023-05-27T22:13:16.456183Z",
     "start_time": "2023-05-27T22:13:16.441962Z"
    }
   },
   "outputs": [
    {
     "data": {
      "text/plain": [
       "PassengerId      int64\n",
       "Survived         int64\n",
       "Pclass           int64\n",
       "Name            object\n",
       "Sex             object\n",
       "Age            float64\n",
       "SibSp            int64\n",
       "Parch            int64\n",
       "Ticket          object\n",
       "Fare           float64\n",
       "Cabin           object\n",
       "Embarked        object\n",
       "dtype: object"
      ]
     },
     "execution_count": 5,
     "metadata": {},
     "output_type": "execute_result"
    }
   ],
   "source": [
    "df_titanic.dtypes"
   ]
  },
  {
   "cell_type": "code",
   "execution_count": 6,
   "id": "05cf0e0f",
   "metadata": {
    "ExecuteTime": {
     "end_time": "2023-05-27T22:13:48.391843Z",
     "start_time": "2023-05-27T22:13:48.382783Z"
    }
   },
   "outputs": [
    {
     "data": {
      "text/plain": [
       "(891, 12)"
      ]
     },
     "execution_count": 6,
     "metadata": {},
     "output_type": "execute_result"
    }
   ],
   "source": [
    "df_titanic.shape"
   ]
  },
  {
   "cell_type": "code",
   "execution_count": 7,
   "id": "b2b4270f",
   "metadata": {
    "ExecuteTime": {
     "end_time": "2023-05-27T22:14:06.800593Z",
     "start_time": "2023-05-27T22:14:06.751109Z"
    }
   },
   "outputs": [
    {
     "data": {
      "text/html": [
       "<div>\n",
       "<style scoped>\n",
       "    .dataframe tbody tr th:only-of-type {\n",
       "        vertical-align: middle;\n",
       "    }\n",
       "\n",
       "    .dataframe tbody tr th {\n",
       "        vertical-align: top;\n",
       "    }\n",
       "\n",
       "    .dataframe thead th {\n",
       "        text-align: right;\n",
       "    }\n",
       "</style>\n",
       "<table border=\"1\" class=\"dataframe\">\n",
       "  <thead>\n",
       "    <tr style=\"text-align: right;\">\n",
       "      <th></th>\n",
       "      <th>PassengerId</th>\n",
       "      <th>Survived</th>\n",
       "      <th>Pclass</th>\n",
       "      <th>Age</th>\n",
       "      <th>SibSp</th>\n",
       "      <th>Parch</th>\n",
       "      <th>Fare</th>\n",
       "    </tr>\n",
       "  </thead>\n",
       "  <tbody>\n",
       "    <tr>\n",
       "      <th>count</th>\n",
       "      <td>891.000000</td>\n",
       "      <td>891.000000</td>\n",
       "      <td>891.000000</td>\n",
       "      <td>714.000000</td>\n",
       "      <td>891.000000</td>\n",
       "      <td>891.000000</td>\n",
       "      <td>891.000000</td>\n",
       "    </tr>\n",
       "    <tr>\n",
       "      <th>mean</th>\n",
       "      <td>446.000000</td>\n",
       "      <td>0.383838</td>\n",
       "      <td>2.308642</td>\n",
       "      <td>29.699118</td>\n",
       "      <td>0.523008</td>\n",
       "      <td>0.381594</td>\n",
       "      <td>32.204208</td>\n",
       "    </tr>\n",
       "    <tr>\n",
       "      <th>std</th>\n",
       "      <td>257.353842</td>\n",
       "      <td>0.486592</td>\n",
       "      <td>0.836071</td>\n",
       "      <td>14.526497</td>\n",
       "      <td>1.102743</td>\n",
       "      <td>0.806057</td>\n",
       "      <td>49.693429</td>\n",
       "    </tr>\n",
       "    <tr>\n",
       "      <th>min</th>\n",
       "      <td>1.000000</td>\n",
       "      <td>0.000000</td>\n",
       "      <td>1.000000</td>\n",
       "      <td>0.420000</td>\n",
       "      <td>0.000000</td>\n",
       "      <td>0.000000</td>\n",
       "      <td>0.000000</td>\n",
       "    </tr>\n",
       "    <tr>\n",
       "      <th>25%</th>\n",
       "      <td>223.500000</td>\n",
       "      <td>0.000000</td>\n",
       "      <td>2.000000</td>\n",
       "      <td>20.125000</td>\n",
       "      <td>0.000000</td>\n",
       "      <td>0.000000</td>\n",
       "      <td>7.910400</td>\n",
       "    </tr>\n",
       "    <tr>\n",
       "      <th>50%</th>\n",
       "      <td>446.000000</td>\n",
       "      <td>0.000000</td>\n",
       "      <td>3.000000</td>\n",
       "      <td>28.000000</td>\n",
       "      <td>0.000000</td>\n",
       "      <td>0.000000</td>\n",
       "      <td>14.454200</td>\n",
       "    </tr>\n",
       "    <tr>\n",
       "      <th>75%</th>\n",
       "      <td>668.500000</td>\n",
       "      <td>1.000000</td>\n",
       "      <td>3.000000</td>\n",
       "      <td>38.000000</td>\n",
       "      <td>1.000000</td>\n",
       "      <td>0.000000</td>\n",
       "      <td>31.000000</td>\n",
       "    </tr>\n",
       "    <tr>\n",
       "      <th>max</th>\n",
       "      <td>891.000000</td>\n",
       "      <td>1.000000</td>\n",
       "      <td>3.000000</td>\n",
       "      <td>80.000000</td>\n",
       "      <td>8.000000</td>\n",
       "      <td>6.000000</td>\n",
       "      <td>512.329200</td>\n",
       "    </tr>\n",
       "  </tbody>\n",
       "</table>\n",
       "</div>"
      ],
      "text/plain": [
       "       PassengerId    Survived      Pclass         Age       SibSp  \\\n",
       "count   891.000000  891.000000  891.000000  714.000000  891.000000   \n",
       "mean    446.000000    0.383838    2.308642   29.699118    0.523008   \n",
       "std     257.353842    0.486592    0.836071   14.526497    1.102743   \n",
       "min       1.000000    0.000000    1.000000    0.420000    0.000000   \n",
       "25%     223.500000    0.000000    2.000000   20.125000    0.000000   \n",
       "50%     446.000000    0.000000    3.000000   28.000000    0.000000   \n",
       "75%     668.500000    1.000000    3.000000   38.000000    1.000000   \n",
       "max     891.000000    1.000000    3.000000   80.000000    8.000000   \n",
       "\n",
       "            Parch        Fare  \n",
       "count  891.000000  891.000000  \n",
       "mean     0.381594   32.204208  \n",
       "std      0.806057   49.693429  \n",
       "min      0.000000    0.000000  \n",
       "25%      0.000000    7.910400  \n",
       "50%      0.000000   14.454200  \n",
       "75%      0.000000   31.000000  \n",
       "max      6.000000  512.329200  "
      ]
     },
     "execution_count": 7,
     "metadata": {},
     "output_type": "execute_result"
    }
   ],
   "source": [
    "df_titanic.describe()"
   ]
  },
  {
   "cell_type": "code",
   "execution_count": 8,
   "id": "bef35cf4",
   "metadata": {
    "ExecuteTime": {
     "end_time": "2023-05-27T22:14:31.364448Z",
     "start_time": "2023-05-27T22:14:31.345510Z"
    }
   },
   "outputs": [
    {
     "data": {
      "text/plain": [
       "PassengerId      0\n",
       "Survived         0\n",
       "Pclass           0\n",
       "Name             0\n",
       "Sex              0\n",
       "Age            177\n",
       "SibSp            0\n",
       "Parch            0\n",
       "Ticket           0\n",
       "Fare             0\n",
       "Cabin          687\n",
       "Embarked         2\n",
       "dtype: int64"
      ]
     },
     "execution_count": 8,
     "metadata": {},
     "output_type": "execute_result"
    }
   ],
   "source": [
    "df_titanic.isnull().sum()"
   ]
  },
  {
   "cell_type": "markdown",
   "id": "b92ca767",
   "metadata": {},
   "source": [
    "## Visualization"
   ]
  },
  {
   "cell_type": "markdown",
   "id": "29489899",
   "metadata": {},
   "source": [
    "### pie chart"
   ]
  },
  {
   "cell_type": "code",
   "execution_count": 9,
   "id": "82b11f4a",
   "metadata": {
    "ExecuteTime": {
     "end_time": "2023-05-27T22:24:21.338571Z",
     "start_time": "2023-05-27T22:24:21.204088Z"
    }
   },
   "outputs": [
    {
     "data": {
      "image/png": "[encoded data removed]",
      "text/plain": [
       "<Figure size 600x600 with 1 Axes>"
      ]
     },
     "metadata": {},
     "output_type": "display_data"
    }
   ],
   "source": [
    "embarked_counts = df_titanic['Embarked'].value_counts()\n",
    "plt.figure(figsize=(6, 6))\n",
    "sns.set(style=\"whitegrid\")\n",
    "plt.pie(embarked_counts, labels=embarked_counts.index, autopct='%1.1f%%', startangle=90, colors=sns.color_palette('pastel'))\n",
    "plt.axis('equal')\n",
    "plt.legend(title='Embarked', loc='upper center' ,bbox_to_anchor=(1, 0.5))\n",
    "plt.show()"
   ]
  },
  {
   "cell_type": "markdown",
   "id": "34b351b6",
   "metadata": {},
   "source": [
    "### Pclass histogram"
   ]
  },
  {
   "cell_type": "code",
   "execution_count": 10,
   "id": "7317c598",
   "metadata": {
    "ExecuteTime": {
     "end_time": "2023-05-27T22:27:27.033959Z",
     "start_time": "2023-05-27T22:27:26.764583Z"
    }
   },
   "outputs": [
    {
     "data": {
      "image/png": "[encoded data removed]",
      "text/plain": [
       "<Figure size 640x480 with 1 Axes>"
      ]
     },
     "metadata": {},
     "output_type": "display_data"
    }
   ],
   "source": [
    "fig, ax = plt.subplots()\n",
    "sns.histplot(df_titanic, x=\"Pclass\", hue=\"Sex\", multiple=\"dodge\", shrink=.8)\n",
    "plt.show(fig)"
   ]
  },
  {
   "cell_type": "markdown",
   "id": "d404d454",
   "metadata": {},
   "source": [
    "### Fare histogram"
   ]
  },
  {
   "cell_type": "code",
   "execution_count": 11,
   "id": "5859c425",
   "metadata": {
    "ExecuteTime": {
     "end_time": "2023-05-27T22:29:09.892249Z",
     "start_time": "2023-05-27T22:29:09.564272Z"
    },
    "scrolled": true
   },
   "outputs": [
    {
     "name": "stderr",
     "output_type": "stream",
     "text": [
      "C:\\Users\\User\\AppData\\Local\\Temp\\ipykernel_6040\\991594433.py:2: UserWarning: Ignoring `palette` because no `hue` variable has been assigned.\n",
      "  sns.histplot(df_titanic, x=\"Fare\", kde=True, palette=\"deep\")\n"
     ]
    },
    {
     "data": {
      "image/png": "[encoded data removed]",
      "text/plain": [
       "<Figure size 640x480 with 1 Axes>"
      ]
     },
     "metadata": {},
     "output_type": "display_data"
    }
   ],
   "source": [
    "fig, ax = plt.subplots()\n",
    "sns.histplot(df_titanic, x=\"Fare\", kde=True, palette=\"deep\")\n",
    "plt.show(fig)"
   ]
  },
  {
   "cell_type": "markdown",
   "id": "d2e89dd6",
   "metadata": {},
   "source": [
    "### violin"
   ]
  },
  {
   "cell_type": "code",
   "execution_count": 12,
   "id": "31782b7b",
   "metadata": {
    "ExecuteTime": {
     "end_time": "2023-05-27T22:40:20.789395Z",
     "start_time": "2023-05-27T22:40:20.556818Z"
    }
   },
   "outputs": [
    {
     "data": {
      "image/png": "[encoded data removed]",
      "text/plain": [
       "<Figure size 800x600 with 1 Axes>"
      ]
     },
     "metadata": {},
     "output_type": "display_data"
    }
   ],
   "source": [
    "import seaborn as sns\n",
    "import matplotlib.pyplot as plt\n",
    "\n",
    "# Load dataset Titanic dari seaborn\n",
    "titanic_data = sns.load_dataset('titanic')\n",
    "\n",
    "# Membuat chart violin\n",
    "plt.figure(figsize=(8, 6))\n",
    "sns.violinplot(data=df_titanic, x='Survived', y='Sex')\n",
    "plt.title('Violin Plot - Survived vs Sex')\n",
    "plt.xlabel('Survived')\n",
    "plt.ylabel('Sex')\n",
    "plt.show()\n"
   ]
  },
  {
   "cell_type": "markdown",
   "id": "97da5470",
   "metadata": {},
   "source": [
    "### matrix correlation"
   ]
  },
  {
   "cell_type": "code",
   "execution_count": 87,
   "id": "4795f68f",
   "metadata": {
    "ExecuteTime": {
     "end_time": "2023-05-27T22:34:08.136954Z",
     "start_time": "2023-05-27T22:34:07.571327Z"
    }
   },
   "outputs": [
    {
     "data": {
      "image/png": "[encoded data removed]",
      "text/plain": [
       "<Figure size 504x504 with 2 Axes>"
      ]
     },
     "metadata": {},
     "output_type": "display_data"
    }
   ],
   "source": [
    "corr = df_titanic.corr()\n",
    "fig, ax = plt.subplots(figsize=(7,7))\n",
    "sns.heatmap(corr,  annot=True, ax=ax, annot_kws={\"size\":5})\n",
    "ax.set_title('Matriks Korelasi')\n",
    "plt.xticks(rotation=80)\n",
    "plt.show(fig)"
   ]
  },
  {
   "cell_type": "markdown",
   "id": "b9c2ef84",
   "metadata": {},
   "source": [
    "### outlier detection"
   ]
  },
  {
   "cell_type": "code",
   "execution_count": 49,
   "id": "1a447943",
   "metadata": {
    "ExecuteTime": {
     "end_time": "2023-05-27T22:11:48.039038Z",
     "start_time": "2023-05-27T22:11:48.029415Z"
    }
   },
   "outputs": [],
   "source": [
    "def normalize(data):\n",
    "    scaler = MinMaxScaler()\n",
    "    ndf = pd.DataFrame(scaler.fit_transform(data), columns=data.columns)\n",
    "    return ndf"
   ]
  },
  {
   "cell_type": "code",
   "execution_count": 91,
   "id": "efa32baf",
   "metadata": {
    "ExecuteTime": {
     "end_time": "2023-05-27T22:36:10.570137Z",
     "start_time": "2023-05-27T22:36:10.412520Z"
    },
    "scrolled": true
   },
   "outputs": [
    {
     "data": {
      "image/png": "[encoded data removed]",
      "text/plain": [
       "<Figure size 432x288 with 1 Axes>"
      ]
     },
     "metadata": {},
     "output_type": "display_data"
    }
   ],
   "source": [
    "data_kolom=df_titanic[['Age', 'Fare']]\n",
    "df_norm = normalize(data_kolom)\n",
    "fig, ax = plt.subplots()\n",
    "sns.boxplot(data=df_norm, orient='h', ax=ax)\n",
    "ax.set_title('Boxplot Normalisasi')\n",
    "plt.show(fig)"
   ]
  },
  {
   "cell_type": "markdown",
   "id": "6c5cf40a",
   "metadata": {},
   "source": [
    "### null detection"
   ]
  },
  {
   "cell_type": "code",
   "execution_count": 94,
   "id": "3f8d00fb",
   "metadata": {
    "ExecuteTime": {
     "end_time": "2023-05-27T22:37:17.660754Z",
     "start_time": "2023-05-27T22:37:17.354872Z"
    }
   },
   "outputs": [
    {
     "data": {
      "image/png": "[encoded data removed]",
      "text/plain": [
       "<Figure size 504x504 with 1 Axes>"
      ]
     },
     "metadata": {},
     "output_type": "display_data"
    }
   ],
   "source": [
    "fig, ax = plt.subplots(figsize=(7,7))\n",
    "sns.heatmap(df_titanic.isnull(), cbar=False)\n",
    "plt.xticks(rotation=80)\n",
    "plt.show(fig)"
   ]
  },
  {
   "cell_type": "markdown",
   "id": "f5c56d75",
   "metadata": {},
   "source": [
    "# Modelling"
   ]
  },
  {
   "cell_type": "code",
   "execution_count": 43,
   "id": "3b5fe352",
   "metadata": {
    "ExecuteTime": {
     "end_time": "2023-05-27T21:49:24.090638Z",
     "start_time": "2023-05-27T21:49:23.931413Z"
    }
   },
   "outputs": [],
   "source": [
    "#load data clear\n",
    "df_clear=pd.read_csv('df_titanic_clear.csv')"
   ]
  },
  {
   "cell_type": "code",
   "execution_count": 35,
   "id": "e8843b4e",
   "metadata": {
    "ExecuteTime": {
     "end_time": "2023-05-27T10:13:24.946576Z",
     "start_time": "2023-05-27T10:13:24.913636Z"
    },
    "scrolled": false
   },
   "outputs": [
    {
     "data": {
      "text/html": [
       "<div>\n",
       "<style scoped>\n",
       "    .dataframe tbody tr th:only-of-type {\n",
       "        vertical-align: middle;\n",
       "    }\n",
       "\n",
       "    .dataframe tbody tr th {\n",
       "        vertical-align: top;\n",
       "    }\n",
       "\n",
       "    .dataframe thead th {\n",
       "        text-align: right;\n",
       "    }\n",
       "</style>\n",
       "<table border=\"1\" class=\"dataframe\">\n",
       "  <thead>\n",
       "    <tr style=\"text-align: right;\">\n",
       "      <th></th>\n",
       "      <th>Survived</th>\n",
       "      <th>Pclass</th>\n",
       "      <th>Fare_dbscan</th>\n",
       "      <th>Sex_enc</th>\n",
       "      <th>Embarked_enc</th>\n",
       "      <th>Mr</th>\n",
       "      <th>Mrs</th>\n",
       "      <th>Miss</th>\n",
       "      <th>Master</th>\n",
       "      <th>Other</th>\n",
       "      <th>young_adult</th>\n",
       "      <th>adult</th>\n",
       "      <th>elderly</th>\n",
       "      <th>child</th>\n",
       "    </tr>\n",
       "  </thead>\n",
       "  <tbody>\n",
       "    <tr>\n",
       "      <th>0</th>\n",
       "      <td>0</td>\n",
       "      <td>3</td>\n",
       "      <td>7.2500</td>\n",
       "      <td>0</td>\n",
       "      <td>2</td>\n",
       "      <td>1</td>\n",
       "      <td>0</td>\n",
       "      <td>0</td>\n",
       "      <td>0</td>\n",
       "      <td>0</td>\n",
       "      <td>1</td>\n",
       "      <td>0</td>\n",
       "      <td>0</td>\n",
       "      <td>0</td>\n",
       "    </tr>\n",
       "    <tr>\n",
       "      <th>1</th>\n",
       "      <td>1</td>\n",
       "      <td>1</td>\n",
       "      <td>71.2833</td>\n",
       "      <td>1</td>\n",
       "      <td>0</td>\n",
       "      <td>0</td>\n",
       "      <td>1</td>\n",
       "      <td>0</td>\n",
       "      <td>0</td>\n",
       "      <td>0</td>\n",
       "      <td>0</td>\n",
       "      <td>1</td>\n",
       "      <td>0</td>\n",
       "      <td>0</td>\n",
       "    </tr>\n",
       "    <tr>\n",
       "      <th>2</th>\n",
       "      <td>1</td>\n",
       "      <td>3</td>\n",
       "      <td>7.9250</td>\n",
       "      <td>1</td>\n",
       "      <td>2</td>\n",
       "      <td>0</td>\n",
       "      <td>0</td>\n",
       "      <td>1</td>\n",
       "      <td>0</td>\n",
       "      <td>0</td>\n",
       "      <td>1</td>\n",
       "      <td>0</td>\n",
       "      <td>0</td>\n",
       "      <td>0</td>\n",
       "    </tr>\n",
       "    <tr>\n",
       "      <th>3</th>\n",
       "      <td>1</td>\n",
       "      <td>1</td>\n",
       "      <td>53.1000</td>\n",
       "      <td>1</td>\n",
       "      <td>2</td>\n",
       "      <td>0</td>\n",
       "      <td>1</td>\n",
       "      <td>0</td>\n",
       "      <td>0</td>\n",
       "      <td>0</td>\n",
       "      <td>0</td>\n",
       "      <td>1</td>\n",
       "      <td>0</td>\n",
       "      <td>0</td>\n",
       "    </tr>\n",
       "    <tr>\n",
       "      <th>4</th>\n",
       "      <td>0</td>\n",
       "      <td>3</td>\n",
       "      <td>8.0500</td>\n",
       "      <td>0</td>\n",
       "      <td>2</td>\n",
       "      <td>1</td>\n",
       "      <td>0</td>\n",
       "      <td>0</td>\n",
       "      <td>0</td>\n",
       "      <td>0</td>\n",
       "      <td>0</td>\n",
       "      <td>1</td>\n",
       "      <td>0</td>\n",
       "      <td>0</td>\n",
       "    </tr>\n",
       "  </tbody>\n",
       "</table>\n",
       "</div>"
      ],
      "text/plain": [
       "   Survived  Pclass  Fare_dbscan  Sex_enc  Embarked_enc  Mr  Mrs  Miss  \\\n",
       "0         0       3       7.2500        0             2   1    0     0   \n",
       "1         1       1      71.2833        1             0   0    1     0   \n",
       "2         1       3       7.9250        1             2   0    0     1   \n",
       "3         1       1      53.1000        1             2   0    1     0   \n",
       "4         0       3       8.0500        0             2   1    0     0   \n",
       "\n",
       "   Master  Other  young_adult  adult  elderly  child  \n",
       "0       0      0            1      0        0      0  \n",
       "1       0      0            0      1        0      0  \n",
       "2       0      0            1      0        0      0  \n",
       "3       0      0            0      1        0      0  \n",
       "4       0      0            0      1        0      0  "
      ]
     },
     "execution_count": 35,
     "metadata": {},
     "output_type": "execute_result"
    }
   ],
   "source": [
    "df_clear.head()"
   ]
  },
  {
   "cell_type": "code",
   "execution_count": null,
   "id": "d81dca03",
   "metadata": {},
   "outputs": [],
   "source": [
    "# Survived : 0 : dead, 1 : alive\n",
    "# Pclass : 1 , 2 , 3\n",
    "# sex_enc : 0 :male, 1:female\n",
    "# Embarked  0:C, 1:Q , 2:S\n",
    "# Mr, Mrs, Miss, Other \n",
    "                'Mlle': 'Miss',\n",
    "                 'Mme': 'Miss',\n",
    "                 'Ms': 'Miss',\n",
    "                 'Dr': 'Mr',\n",
    "                 'Major': 'Mr',\n",
    "                 'Lady': 'Mrs',\n",
    "                 'Countess': 'Mrs',\n",
    "                 'Jonkheer': 'Other',\n",
    "                 'Col': 'Other',\n",
    "                 'Rev': 'Other',\n",
    "                 'Capt': 'Mr',\n",
    "                 'Sir': 'Mr',\n",
    "                 'Don': 'Mr'\n",
    "                    \n",
    "# child  : 0-15\n",
    "# young_adult: 16-30\n",
    "# adult : 31 -50\n",
    "# ederly :51-100\n",
    "\n",
    "\n"
   ]
  },
  {
   "cell_type": "markdown",
   "id": "7947f55d",
   "metadata": {},
   "source": [
    "## train test split"
   ]
  },
  {
   "cell_type": "code",
   "execution_count": 10,
   "id": "4c1268df",
   "metadata": {
    "ExecuteTime": {
     "end_time": "2023-05-27T09:52:26.521092Z",
     "start_time": "2023-05-27T09:52:25.524766Z"
    }
   },
   "outputs": [],
   "source": [
    "from sklearn.model_selection import train_test_split\n",
    "\n",
    "# Memisahkan fitur dan label dari data Anda\n",
    "X = df_clear.drop('Survived', axis=1)\n",
    "y = df_clear['Survived']\n",
    "# Memisahkan data menjadi set pelatihan dan set pengujian\n",
    "X_train, X_test, y_train, y_test = train_test_split(X, y, test_size=0.2, random_state=42)\n"
   ]
  },
  {
   "cell_type": "markdown",
   "id": "6d535db8",
   "metadata": {},
   "source": [
    "## create model"
   ]
  },
  {
   "cell_type": "code",
   "execution_count": 11,
   "id": "e48ecf5a",
   "metadata": {
    "ExecuteTime": {
     "end_time": "2023-05-27T09:52:39.704528Z",
     "start_time": "2023-05-27T09:52:39.372309Z"
    }
   },
   "outputs": [],
   "source": [
    "from sklearn.ensemble import RandomForestClassifier\n",
    "\n",
    "model = RandomForestClassifier()\n",
    "model.fit(X, y)\n",
    "\n"
   ]
  },
  {
   "cell_type": "code",
   "execution_count": 101,
   "id": "95343fc4",
   "metadata": {
    "ExecuteTime": {
     "end_time": "2023-05-27T22:45:22.963505Z",
     "start_time": "2023-05-27T22:45:22.811713Z"
    }
   },
   "outputs": [
    {
     "data": {
      "text/html": [
       "<div>\n",
       "<style scoped>\n",
       "    .dataframe tbody tr th:only-of-type {\n",
       "        vertical-align: middle;\n",
       "    }\n",
       "\n",
       "    .dataframe tbody tr th {\n",
       "        vertical-align: top;\n",
       "    }\n",
       "\n",
       "    .dataframe thead th {\n",
       "        text-align: right;\n",
       "    }\n",
       "</style>\n",
       "<table border=\"1\" class=\"dataframe\">\n",
       "  <thead>\n",
       "    <tr style=\"text-align: right;\">\n",
       "      <th></th>\n",
       "      <th>Fiture</th>\n",
       "      <th>Nilai</th>\n",
       "    </tr>\n",
       "  </thead>\n",
       "  <tbody>\n",
       "    <tr>\n",
       "      <th>1</th>\n",
       "      <td>Fare_dbscan</td>\n",
       "      <td>0.410668</td>\n",
       "    </tr>\n",
       "    <tr>\n",
       "      <th>4</th>\n",
       "      <td>Mr</td>\n",
       "      <td>0.137102</td>\n",
       "    </tr>\n",
       "    <tr>\n",
       "      <th>2</th>\n",
       "      <td>Sex_enc</td>\n",
       "      <td>0.132619</td>\n",
       "    </tr>\n",
       "    <tr>\n",
       "      <th>0</th>\n",
       "      <td>Pclass</td>\n",
       "      <td>0.123231</td>\n",
       "    </tr>\n",
       "    <tr>\n",
       "      <th>6</th>\n",
       "      <td>Miss</td>\n",
       "      <td>0.045815</td>\n",
       "    </tr>\n",
       "    <tr>\n",
       "      <th>3</th>\n",
       "      <td>Embarked_enc</td>\n",
       "      <td>0.044311</td>\n",
       "    </tr>\n",
       "    <tr>\n",
       "      <th>5</th>\n",
       "      <td>Mrs</td>\n",
       "      <td>0.040812</td>\n",
       "    </tr>\n",
       "    <tr>\n",
       "      <th>10</th>\n",
       "      <td>adult</td>\n",
       "      <td>0.014441</td>\n",
       "    </tr>\n",
       "    <tr>\n",
       "      <th>9</th>\n",
       "      <td>young_adult</td>\n",
       "      <td>0.013016</td>\n",
       "    </tr>\n",
       "    <tr>\n",
       "      <th>12</th>\n",
       "      <td>child</td>\n",
       "      <td>0.012173</td>\n",
       "    </tr>\n",
       "    <tr>\n",
       "      <th>7</th>\n",
       "      <td>Master</td>\n",
       "      <td>0.011714</td>\n",
       "    </tr>\n",
       "    <tr>\n",
       "      <th>11</th>\n",
       "      <td>elderly</td>\n",
       "      <td>0.008071</td>\n",
       "    </tr>\n",
       "    <tr>\n",
       "      <th>8</th>\n",
       "      <td>Other</td>\n",
       "      <td>0.006026</td>\n",
       "    </tr>\n",
       "  </tbody>\n",
       "</table>\n",
       "</div>"
      ],
      "text/plain": [
       "          Fiture     Nilai\n",
       "1    Fare_dbscan  0.410668\n",
       "4             Mr  0.137102\n",
       "2        Sex_enc  0.132619\n",
       "0         Pclass  0.123231\n",
       "6           Miss  0.045815\n",
       "3   Embarked_enc  0.044311\n",
       "5            Mrs  0.040812\n",
       "10         adult  0.014441\n",
       "9    young_adult  0.013016\n",
       "12         child  0.012173\n",
       "7         Master  0.011714\n",
       "11       elderly  0.008071\n",
       "8          Other  0.006026"
      ]
     },
     "execution_count": 101,
     "metadata": {},
     "output_type": "execute_result"
    }
   ],
   "source": [
    "feature_importances = model.feature_importances_\n",
    "fitur=[]\n",
    "nilai=[]\n",
    "for feature, importance in zip(X.columns, feature_importances):\n",
    "    fitur.append(feature)\n",
    "    nilai.append(importance)\n",
    "feature_importan= pd.DataFrame({'Fiture':fitur, 'Nilai':nilai})\n",
    "feature_importan.sort_values(by='Nilai', ascending=False)"
   ]
  },
  {
   "cell_type": "markdown",
   "id": "90f1547c",
   "metadata": {
    "ExecuteTime": {
     "end_time": "2023-05-27T22:44:11.672589Z",
     "start_time": "2023-05-27T22:44:11.621328Z"
    }
   },
   "source": [
    "## hyper parameter tuning"
   ]
  },
  {
   "cell_type": "code",
   "execution_count": 13,
   "id": "1b62e5b0",
   "metadata": {
    "ExecuteTime": {
     "end_time": "2023-05-27T09:53:25.786833Z",
     "start_time": "2023-05-27T09:53:19.571571Z"
    }
   },
   "outputs": [
    {
     "name": "stdout",
     "output_type": "stream",
     "text": [
      "Fitting 3 folds for each of 81 candidates, totalling 243 fits\n",
      "RandomForestClassifier(bootstrap=False, max_depth=20, min_samples_leaf=2,\n",
      "                       min_samples_split=10, n_estimators=5)\n"
     ]
    }
   ],
   "source": [
    "from sklearn.model_selection import GridSearchCV\n",
    "\n",
    "param_grid = {'n_estimators': [5,10,50],\n",
    "               'max_depth': [5,10,20],\n",
    "               'min_samples_split': [2,5,10],\n",
    "               'min_samples_leaf': [2,5,10],\n",
    "               'bootstrap': [False],\n",
    "                'criterion': ['gini']}\n",
    "gs = GridSearchCV(model, param_grid=param_grid, cv = 3, verbose=1, n_jobs=-1)\n",
    "gs.fit(X, y)\n",
    "print(gs.best_estimator_)"
   ]
  },
  {
   "cell_type": "markdown",
   "id": "f70e855b",
   "metadata": {},
   "source": [
    "## accuracy"
   ]
  },
  {
   "cell_type": "code",
   "execution_count": 14,
   "id": "dfcde0dd",
   "metadata": {
    "ExecuteTime": {
     "end_time": "2023-05-27T09:53:42.645051Z",
     "start_time": "2023-05-27T09:53:42.629763Z"
    }
   },
   "outputs": [],
   "source": [
    "predictions = gs.best_estimator_.predict(X_test)"
   ]
  },
  {
   "cell_type": "code",
   "execution_count": 20,
   "id": "8b4e61ff",
   "metadata": {
    "ExecuteTime": {
     "end_time": "2023-05-27T09:55:49.565381Z",
     "start_time": "2023-05-27T09:55:49.561935Z"
    }
   },
   "outputs": [],
   "source": [
    "actual=y_test"
   ]
  },
  {
   "cell_type": "code",
   "execution_count": 21,
   "id": "c5db31db",
   "metadata": {
    "ExecuteTime": {
     "end_time": "2023-05-27T09:55:50.321334Z",
     "start_time": "2023-05-27T09:55:50.306005Z"
    }
   },
   "outputs": [
    {
     "name": "stdout",
     "output_type": "stream",
     "text": [
      "[[96  9]\n",
      " [ 9 65]]\n",
      "Accuracy score: 0.9\n",
      "Recall score: 0.88\n",
      "Precision score: 0.88\n",
      "F1 score: 0.88\n"
     ]
    }
   ],
   "source": [
    "from sklearn.metrics import confusion_matrix, accuracy_score, recall_score, precision_score, f1_score\n",
    "\n",
    "conf_matrix = confusion_matrix(actual, predictions)\n",
    "\n",
    "print(conf_matrix)\n",
    "print('Accuracy score:', round(accuracy_score(actual, predictions),2))\n",
    "print('Recall score:', round(recall_score(actual, predictions),2))\n",
    "print('Precision score:', round(precision_score(actual, predictions),2))\n",
    "print('F1 score:', round(f1_score(actual, predictions),2))"
   ]
  },
  {
   "cell_type": "markdown",
   "id": "c1873e1d",
   "metadata": {},
   "source": [
    "## export model"
   ]
  },
  {
   "cell_type": "code",
   "execution_count": 22,
   "id": "f169760a",
   "metadata": {
    "ExecuteTime": {
     "end_time": "2023-05-27T09:56:55.791242Z",
     "start_time": "2023-05-27T09:56:55.782156Z"
    }
   },
   "outputs": [],
   "source": [
    "model_rf= RandomForestClassifier(bootstrap=False, max_depth=20, min_samples_leaf=2,\n",
    "                       min_samples_split=10, n_estimators=5)"
   ]
  },
  {
   "cell_type": "code",
   "execution_count": 26,
   "id": "7648a411",
   "metadata": {
    "ExecuteTime": {
     "end_time": "2023-05-27T09:58:24.481678Z",
     "start_time": "2023-05-27T09:58:24.469210Z"
    }
   },
   "outputs": [
    {
     "data": {
      "text/plain": [
       "['model.joblib']"
      ]
     },
     "execution_count": 26,
     "metadata": {},
     "output_type": "execute_result"
    }
   ],
   "source": [
    "joblib.dump(model_rf, 'model.joblib')"
   ]
  },
  {
   "cell_type": "markdown",
   "id": "02120463",
   "metadata": {},
   "source": [
    "## import model"
   ]
  },
  {
   "cell_type": "code",
   "execution_count": 30,
   "id": "21f21665",
   "metadata": {
    "ExecuteTime": {
     "end_time": "2023-05-27T10:00:41.537379Z",
     "start_time": "2023-05-27T10:00:41.523322Z"
    }
   },
   "outputs": [],
   "source": [
    "model_loaded = joblib.load('model.joblib')"
   ]
  },
  {
   "cell_type": "code",
   "execution_count": 31,
   "id": "eb22c4be",
   "metadata": {
    "ExecuteTime": {
     "end_time": "2023-05-27T10:00:42.310498Z",
     "start_time": "2023-05-27T10:00:42.294521Z"
    }
   },
   "outputs": [
    {
     "data": {
      "text/html": [
       "<div>\n",
       "<style scoped>\n",
       "    .dataframe tbody tr th:only-of-type {\n",
       "        vertical-align: middle;\n",
       "    }\n",
       "\n",
       "    .dataframe tbody tr th {\n",
       "        vertical-align: top;\n",
       "    }\n",
       "\n",
       "    .dataframe thead th {\n",
       "        text-align: right;\n",
       "    }\n",
       "</style>\n",
       "<table border=\"1\" class=\"dataframe\">\n",
       "  <thead>\n",
       "    <tr style=\"text-align: right;\">\n",
       "      <th></th>\n",
       "      <th>Pclass</th>\n",
       "      <th>Fare_dbscan</th>\n",
       "      <th>Sex_enc</th>\n",
       "      <th>Embarked_enc</th>\n",
       "      <th>Mr</th>\n",
       "      <th>Mrs</th>\n",
       "      <th>Miss</th>\n",
       "      <th>Master</th>\n",
       "      <th>Other</th>\n",
       "      <th>young_adult</th>\n",
       "      <th>adult</th>\n",
       "      <th>elderly</th>\n",
       "      <th>child</th>\n",
       "    </tr>\n",
       "  </thead>\n",
       "  <tbody>\n",
       "    <tr>\n",
       "      <th>0</th>\n",
       "      <td>3</td>\n",
       "      <td>7.25</td>\n",
       "      <td>0</td>\n",
       "      <td>2</td>\n",
       "      <td>1</td>\n",
       "      <td>0</td>\n",
       "      <td>0</td>\n",
       "      <td>0</td>\n",
       "      <td>0</td>\n",
       "      <td>1</td>\n",
       "      <td>0</td>\n",
       "      <td>0</td>\n",
       "      <td>0</td>\n",
       "    </tr>\n",
       "  </tbody>\n",
       "</table>\n",
       "</div>"
      ],
      "text/plain": [
       "   Pclass  Fare_dbscan  Sex_enc  Embarked_enc  Mr  Mrs  Miss  Master  Other  \\\n",
       "0       3         7.25        0             2   1    0     0       0      0   \n",
       "\n",
       "   young_adult  adult  elderly  child  \n",
       "0            1      0        0      0  "
      ]
     },
     "execution_count": 31,
     "metadata": {},
     "output_type": "execute_result"
    }
   ],
   "source": [
    "X[:1]"
   ]
  },
  {
   "cell_type": "code",
   "execution_count": 32,
   "id": "43941400",
   "metadata": {
    "ExecuteTime": {
     "end_time": "2023-05-27T10:00:50.207573Z",
     "start_time": "2023-05-27T10:00:50.196224Z"
    }
   },
   "outputs": [
    {
     "data": {
      "text/plain": [
       "array([1])"
      ]
     },
     "execution_count": 32,
     "metadata": {},
     "output_type": "execute_result"
    }
   ],
   "source": [
    "y_predict = model_loaded.predict(X[1:2])\n",
    "y_predict"
   ]
  },
  {
   "cell_type": "markdown",
   "id": "d4cb46d6",
   "metadata": {},
   "source": [
    "## Probability"
   ]
  },
  {
   "cell_type": "code",
   "execution_count": 33,
   "id": "f9dbf937",
   "metadata": {
    "ExecuteTime": {
     "end_time": "2023-05-27T10:00:55.253677Z",
     "start_time": "2023-05-27T10:00:55.247203Z"
    }
   },
   "outputs": [],
   "source": [
    "pred_prob = model_loaded.predict_proba(X[:1])"
   ]
  },
  {
   "cell_type": "code",
   "execution_count": 34,
   "id": "bfc6b4c8",
   "metadata": {
    "ExecuteTime": {
     "end_time": "2023-05-27T10:01:01.522272Z",
     "start_time": "2023-05-27T10:01:01.509340Z"
    }
   },
   "outputs": [
    {
     "data": {
      "text/plain": [
       "array([[0.98036364, 0.01963636]])"
      ]
     },
     "execution_count": 34,
     "metadata": {},
     "output_type": "execute_result"
    }
   ],
   "source": [
    "pred_prob"
   ]
  },
  {
   "cell_type": "code",
   "execution_count": 105,
   "id": "5c6c1f82",
   "metadata": {
    "ExecuteTime": {
     "end_time": "2023-05-27T22:47:54.509639Z",
     "start_time": "2023-05-27T22:47:54.494255Z"
    }
   },
   "outputs": [
    {
     "data": {
      "text/plain": [
       "0.019636363636363636"
      ]
     },
     "execution_count": 105,
     "metadata": {},
     "output_type": "execute_result"
    }
   ],
   "source": [
    "pred_prob[0][1]"
   ]
  },
  {
   "cell_type": "code",
   "execution_count": null,
   "id": "0e8645e6",
   "metadata": {},
   "outputs": [],
   "source": []
  }
 ],
 "metadata": {
  "kernelspec": {
   "display_name": "Python 3 (ipykernel)",
   "language": "python",
   "name": "python3"
  },
  "language_info": {
   "codemirror_mode": {
    "name": "ipython",
    "version": 3
   },
   "file_extension": ".py",
   "mimetype": "text/x-python",
   "name": "python",
   "nbconvert_exporter": "python",
   "pygments_lexer": "ipython3",
   "version": "3.10.9"
  },
  "toc": {
   "base_numbering": 1,
   "nav_menu": {},
   "number_sections": true,
   "sideBar": true,
   "skip_h1_title": false,
   "title_cell": "Table of Contents",
   "title_sidebar": "Contents",
   "toc_cell": false,
   "toc_position": {},
   "toc_section_display": true,
   "toc_window_display": true
  }
 },
 "nbformat": 4,
 "nbformat_minor": 5
}
